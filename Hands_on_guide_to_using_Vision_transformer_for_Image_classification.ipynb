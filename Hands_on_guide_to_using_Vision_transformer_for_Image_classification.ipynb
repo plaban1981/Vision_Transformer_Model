{
  "nbformat": 4,
  "nbformat_minor": 0,
  "metadata": {
    "colab": {
      "name": "Hands-on guide to using Vision transformer for Image classification.ipynb",
      "provenance": [],
      "machine_shape": "hm",
      "authorship_tag": "ABX9TyNDfrC6EOiALiwkAsbopRo5",
      "include_colab_link": true
    },
    "kernelspec": {
      "name": "python3",
      "display_name": "Python 3"
    },
    "language_info": {
      "name": "python"
    },
    "accelerator": "GPU"
  },
  "cells": [
    {
      "cell_type": "markdown",
      "metadata": {
        "id": "view-in-github",
        "colab_type": "text"
      },
      "source": [
        "<a href=\"https://colab.research.google.com/github/plaban1981/Vision_Transformer_Model/blob/main/Hands_on_guide_to_using_Vision_transformer_for_Image_classification.ipynb\" target=\"_parent\"><img src=\"https://colab.research.google.com/assets/colab-badge.svg\" alt=\"Open In Colab\"/></a>"
      ]
    },
    {
      "cell_type": "markdown",
      "source": [
        "##Hands-on guide to using Vision transformer for Image classification"
      ],
      "metadata": {
        "id": "_c6K6PAKiLtt"
      }
    },
    {
      "cell_type": "markdown",
      "source": [
        "https://analyticsindiamag.com/hands-on-guide-to-using-vision-transformer-for-image-classification/"
      ],
      "metadata": {
        "id": "OD4hZNIbiPmB"
      }
    },
    {
      "cell_type": "markdown",
      "source": [
        "**Vision transformers** are one of the popular transformers in the field of deep learning. \n",
        "\n",
        "Before the origin of the vision transformers, we had to use convolutional neural networks in computer vision for complex tasks. \n",
        "\n",
        "With the introduction of vision transformers, we got one more powerful model for computer vision tasks as we have BERT and GPT for complex NLP tasks."
      ],
      "metadata": {
        "id": "_NmsjqyyiQY-"
      }
    },
    {
      "cell_type": "markdown",
      "source": [
        "## About vision transformers\n",
        "Vision transformer (ViT) is a transformer used in the field of computer vision that works based on the working nature of the transformers used in the field of natural language processing. \n",
        "\n",
        "\n",
        "Internally, the transformer learns by measuring the relationship between input token pairs. \n",
        "\n",
        "In computer vision, we can use the patches of images as the token. This relationship can be learned by providing attention in the network. \n",
        "\n",
        "This can be done either in conjunction with a convolutional network or by replacing some components of convolutional networks. These structures of the network can be applied to the image classification tasks."
      ],
      "metadata": {
        "id": "EeZ14zmzix_s"
      }
    },
    {
      "cell_type": "markdown",
      "source": [
        "## Implementing vision transformer for image classification\n",
        "\n",
        "Step 1: Initializing setup\n",
        "\n",
        "Step 2: Building network\n",
        "\n",
        "Step 3 Building vision transformer \n",
        "\n",
        "Step 4: compile and train"
      ],
      "metadata": {
        "id": "WifrdyaHi-w5"
      }
    },
    {
      "cell_type": "markdown",
      "source": [
        "## Step 1.1: Importing data  \n",
        "\n",
        "CIFAR dataset\n",
        "![image.png](data:image/png;base64,iVBORw0KGgoAAAANSUhEUgAAAtsAAALjCAYAAADDWcloAAAgAElEQVR4nOzdf1RVdb7/8VffYUbMAZwawCzF0nAm/FEdxBwly1/kgHqDxGtYWZSRlvmjGsNStMImR0lLNJMyFb2iYKLWIGoamqacKVSagXLiqE0C4xTH8Xq417v4/sEBEVHR+JzDj+djLdaCz95n7zcuP2e/zmd/PptrKioqKgQAAACgwf0/dxcAAAAANFeEbQAAAMAQwjYAAABgCGEbAAAAMISwDQAAABhC2AYAAAAMIWwDAAAAhhC2AQAAAEMI2wAAAIAhHnU1Wq1WV9cBAAAANDkWi+WS2+sM25IUFBTU4MUALUF+fj79B3CiPwBozvLz8y+7D9NIAAAAAEMI2wAAAIAhhG0AAADAEMI2AAAAYAhhGwAAADCEsA0AAAAYQtgGAAAADCFsAwAAAIYQtgEAAABDCNsAAACAIYRtAAAAwBDCNgAAAGAIYRsAAAAwhLANAAAAGELYBgAAAAwhbAMAAACGELYBAAAAQwjbAAAAgCGEbQAAAMAQwjYAAABgCGEbAAAAMISwDQAAABhC2AYAAAAMIWwDAAAAhjT5sG3flqihIb7y9fWVr+9Ypf/D3RUBTcC36Zp0n8XZb3w1NqPkJx+ycOVo9Q2q6otJym2AMoFmx3FIKbEW+YaMVvKXjgY/fMm2mYoMClLfKVv003s1gIZgOGwfUsrIyBph2Fe+vkHqe3+kZmY1zNuA96B4vTKqQQ4FNCIlyn65dt/xVdDdkYocmaJDP/XwN0fpzdfGNESh1QIfWqApdzXoIQGnuvvDuS+Lho4cq2lvpyu3sSfM/G2alnlU+nabZm4/3MAHL1HOmmTllJSocOU65TD4BDQKhsN2d8Wuy9DHi+PPNQ2frQ0bMjQrzM/sqYEmzU+DX8nQxx8uUXh1W7w++DRDGeti1d2NlQGuV3d/+Li0VMeOHFHun6co5OwBpcyK09AgiyZl2NxY62UEDdLrwztKNw/SrIHdGvjgfgodPV6hfn4KfGikQts38OEBXJUmP40EANByeXp7K8ASo1kbPtKbgyTpqFKffFSJnzf8FI0G4dldsSlWle5fo/G3e171YRw7ZyrI11dJ1vPb/QbNUkZ+vvbMDxdDWkDj0CzCtq9fqLtLAAC4VYCinhzv/P6Qkt5MVyMe3/5pHLlaPCuZOdlAE+HWsG3fnaTRdwedW9z4V5uy351W3WYZPVPZR2u96F+5SnmhxkKskKGa/G5B3Seota/lvklK2ul8+7VnK7HGAjHfkKGalGaT7DlKGtNXQb5B6vtkM36zRjNmU3bCJEWOHCpLzTmtE5Mu7E9O9oPrlTSxav8g9R0zU+l/tdfeS7k1+qdvyFBNmpdDH0Gj4XlnP8VW/bAtR4drpFHH11tq/R+fptTDNUa/TxcqPeH8a8sF6yPshdoyb5Iiq69bFg0dGanEbfbKa0dsjT6XkCOHJPuXqZo22iLf2HSV2LOVeH9fBVXtMy9Xkk3pEyPPnXfkTCXPm1Q9Pz3o7tGamVGoqkptaZM09O6hSnRO9068r3K/JKtUuHLsxR8YYC9UekKN7SFDNTYhXYXV3dym9Ik16p+XoxJr+rl/s6C+inv3kBrp/QKgUXNr2PbuN1kLJvVy/rRF6z86LM/fhmtMVA/5STq6LVkPvp2t6veC07lKenCopr2/TT/es0S535eqdP/Hmjykjs/3/8rWtNDKfXvNyVdp0WoNtqYqceSjSrI6JO/Biv9zhvO2o6TTPRU+KEDy7qjA6xzqOO0DbX8nSgHG/xWAhlaqw4t+VPjMtbKWlqr0+x2K73ZUuWsS9eC4FBXW9ZIbQxU752NZi/ZoSbRUmJWsuLufVOq3VTvYlf1CHw2NT9G2299QfukxrR6Uq9TXI/XovFwuwGgcvH8l/+ofCmWrujQcTtb9vxurxDXlGpNdqtLPpsg/K0WT7o1zBlK7smfdr7hdIVqSV6rS0lId+/BpBX5lV3nV4U7nKim6r8a+nqqC7rMrrz+lnyje8qMK7Q7JO1STU15R9bLjYyU6nDlJ9w6epJRtzk+53oMVv2iKeqmmAEUtXFJjcbG/Qh6arQ2fHVPuoijpr9uU/GRfxTmfGBQQ/aY+mFZj5vqfK+udbJECH1pe9wMDHIeUFN1XcYu2qO1Te1RaWqo9T7XVlkVx6hudpEOOqjpq1L95i7J/8FPw8DEabJFUUqj0+Gf1XkOv6QRagEY1jSTknnCF9gtV+LNT9XhV40n7uU/0mfOUaJWkUMU/F6UAj8r21q0vPJYt6z2llEhSuEKD/aQ2PdVruCQdUmJ21btFgGIS39QgSSpJ0aSFW5Q9L05vB7yjDVODdfWz6QA3Gz5Mw7p5V37v0V2hYc52a44O1fGEAu/r/eXdRlKbQEU9F6/KiVnblJLlHNf7dpPee7/yYh9+Ty/5yVM9gysv+Ide3yquv2h8Dqm8XJIcyvlwkfNRlMMUerukW3s6/49v0abdNkmFOvx+iVRSoEJn//BsH67H5neTb9XR3n/Bef0J1+zpVdcfb4UOHlb3tSIzUfN2d9frn+XriHWJYupbtre/Ovp5y9PDUwHREzTBuYZyy1vrr/opRPZdqdXXzoh7AiVJgfdEVP4bWBOVuqv2XSxJt/TS4EGhCh0UoynjqsJ91b8pgCvRqML2pZXo8O5tzu+D1fXmS+1rV+EXVfsGKqD2iuyvbefmut0co9fnVw5vlywaqwe/elxLCNpo0oI1OSXq/MVRP7+Cl9/QsfppJ4cOHVWJJHvhIVX3qBtrL7sqlI1HjKHR6a5WrSTpax3a7nzH/33H6vBcZcuxUkm+8hskqSRdcRbnlMOMXLUdONh5d9Omg7ucUbdbiAJrXlMsk7Ukso6liMPjteCNWA2+1U/eHcMVPy1U3lf8OwTo1qph8MMHdfQqJ2kXHk5xfuctz1bOb1t5VteTcrjO+10AGkgTCtuSo/pedR1D2efvKfvJqu+TNNQ5Ry8us+69Ax56/dx0kn0HdfT0T60UcKPTznmlVXNDQ4bq5bVX8HrP1mpb9b2z0zlOn6jenBThnEv65JYGKxloKGeqvwvRrR0lqVzlVbdePopTsK+vfH2HKvG8VwUoavosDXJm5qPWVCU+OVRBv5ukLf+QpFKV7HTueot/jakq9eUpv1v9rmIQx1u/qj6ZQ46zV3wAAI1AkwrbntXvVGcutZskT3lfX/V95bNYS2t+1R71O5qrnCN+lW0lyYqbm8McVDQpufOCnI8As2vLi5XzSnN+DNeSI5XrGq7oDz+VFKt6yfGtAfKT5NmmXfXmqjmi576WK4rn+aIx+Lbg3F8uHd5LPb0lqZVaVT3OevgS5de+HkwNliR5dhuvNXlHtGfDEsVHBlZeD75N1bzMQ5J85XeP8xh/L1axy34hu36oPlmA/K5z2YkBNKAmFLb91LF71c3tXBV8e6l9vRV4R9VQdZ5sF3kCgyTpaLriHshWaOpefVQ9nSROc3YSt9FUHNL+zb3U0VeSClW4xtl8S1d1vfL71lKJzbmI0k+xwZXzO70Du6u6Rx3h+SNonA5lrVKOJMlP4x+qes70reo+0Dm8klmgui8HuUpKyJHDw1uB/aI0+Z09sq6pfK5JcbkkBajrXc5jHM7RwUtefxqSTV8fcH47OkQ9r3J+Y2C3qme02OWomnP9r+Lqf4vYboFXXyKAy2pCYVvqPnyqovwkKUeJf0qXzSE57DbZvrtw34DhUxVvkaQtmhGfpC2HbbLb7Sr5Olc5XzsXg5zOVdK4Zeq6+E3F3OpdYzpJiZInzFEO00nQ2J11yP7lfm07LMlDqp57Kkn7spXztV32o4eUV0cfOc9p590ih03pixfpkCS/6Nl6apAzrd8cpanTKkcAt8yapqSPDslmt8teUqjc3YWqY3kV4DoOuw5lTNMLL+dK8tOgV/5LL95TlUw9FfrwbOe1I0kvx6cq5+sS2e122Q7n6NA/nAMr61KVfvjc/+Ti0hOSuuvxfrdKkoJHv+E8xjYlTklUuvOaYj966Nw1pSGcdehHZ0klmaladFiSghX/2MDqOdbefoHVd2e37sxRib1EhUcvXoN3/xjn9TBHm3dWfpQuPJBTueDSEq+Y/lfzqRxAfRkO24eUMjJSfR+uMTsuM05D74vUzKwS2Xcn6dk3D1RvWvWnJOXYpcKV87SqqnHffMW96nz8X/twvfnhcsWPDpZnWpyCOwRp4Pj39OONVSulD2j+hERl2yW1CdbktD1aMiFcHQsTNfbeYHUeNEpxb+XIrl9UPuN76CNKPGbX/q8qP9/bd2do83fOt7CSZMUNHa3Uv5r9FwLqVqLslyM19D/idG5mdKJz/UGNrxs6qPPgacpRT+dC4ABFzV6i8WGB8itJV1zMKM1Yd1SBvaqehXBA819IrRy5vjlcq995XZMfDZc948HK+d0dgjXjUA/FJmbokwU1H33pqeCpa7XnnfEK71CoxEcGKLjzvRo1IVk5dukXsitn3rOav69q/1V6OTa17scMAlfsMv2hQ2f955uF8n/0da3ev1dr4rqfPz+6Y5SWfJKhWaNDZd84SZG/C1KfiLGauaJQ5Z6eknzVbaSn0p+719m3gvRgWlvN2vyhJlucR2ofriV792j5tBh1PZmquHuD1bnzvRo1K7XyWdX2HCXFvnz+tWvkJKXXHAW3ZytxwnxVX/XWvlz59x1qyk3WtP+o/BsQQbHZ6jg6Xss/XavJNf7apGe/KfqvxBgF3yzlvh6podGJ2nLUocKVY2uszzig+S9UXlPl2b36evjj4r7y9fVV38U/Kmbacu1Jm6zunlLlc7bPr39Gmk2yZ2tRzev09LFcF4ErdE1FRUVF7Uar1aqgoCB31AM0efn5+fQfwIn+UB8lSo91LuIfvkT5tdcVAWi08vPzZbFYLrlPk5pGAgAAADQlhG0AAADAEMI2AABuY1f2q3Hn1jvUNdcbQJPm4e4CAABoubw1+KUMDX7J3XUAMIWRbQAAAMAQwjYAAABgCGEbAAAAMISwDQAAABhC2AYAAAAMIWwDAAAAhhC2AQAAAEMI2wAAAIAhhG0AAADAEMI2AAAAYAhhGwAAADCEsA0AAAAYQtgGAAAADCFsAwAAAIYQtgEAAABDCNsAAACAIYRtAAAAwBDCNgAAAGAIYRsAAAAwhLANAAAAGHJNRUVFRe1Gq9XqjloAAACAJsVisVxyu8fVvhBA3axWK/0HcKI/AGjO6jNAzTQSAAAAwBDCNgAAAGAIYRsAAAAwhLANAAAAGELYBgAAAAwhbAMAAACGELYBAAAAQwjbAAAAgCGEbQAAAMAQwjYAAABgCGEbAAAAMISwDQAAABhC2AYAAAAMIWwDAAAAhhC2AQAAAEMI2wAAAIAhhG0AAADAEMI2AAAAYAhhGwAAADCEsA0AAAAYQtgGAAAADCFsAwAAAIYQtgEAAABDCNsAAACAIYRtAECz4nA08AFP5iltyUJNjfKS18NpKm7gwwNo3lwbtssKlPZihGLX8VYF1JejME3ToyMUMSJCEQMGKuqlNBWcdndVQONU9vFUdfPtoqlbyxruoNf3VHTcRI0KabhDAmg5XBa2izZNV4QlWLFv71JDDzoAzdbfVyjG8o7aPr9emzdu1uYdGZrouVDhT6xQkbtrAxqjn3nKUwFq9+tW7q4EACS5JGyXadcfp2qdY4Te/miRhps/IdBMlClz7gRtHfOsxvXydLb5qP+jE9V70wTN3dSAI3dAM+Ez5DUdPrVdz9/pefmdAcAFXBC2fdT/D/P0/MgQdWrDmx9Qb2X7tGuV1L93D/nUbL+xq3r3kFbs2CfiNgAAjRsLJIHGylagzyX5tGlda0M7tessadNBppKgRSn7dK5iRkQoIjxCESMGKrh3lKZ/fK4XOP6epaUJsern5aWYqrVBJ/drRXVbkRzf7dLSyVHq9nCajh5M0+xx/eTlNVVL101XVO8u8vLyUpfeUZq+rqBeUx4vV1Pxp0srF1Z6zVbW37O0dHKUgrt4yatLsGKX5NU6h0MFm+ZqwoCBGjgiQgMHDNSEN/fzoRpo4gjbQGNVXq48SZ2u96m1wUf+HSUVS+VuKAtwF0fxl2o3Yb02b9mszRu3a/0z0sLo6Ur7rnK75y1hGvdEmAJqvuj6ED3sbDux7i29salYAUPD1NtTatUjWk8ODpB0Qp5BLyv982906ofjSn+qrdY+Fq4JGy6/mP9yNfnfPc65sLJYtn931aiE97Tdekjrx/go7fkJWnrw3LGKN0xQ+INfqv/727V942Zt3zRH/usGKnJe7VAOoCkhbAONXFuv2tOvPNXayy2lAG7l87sZeuHuc/2hU9e7JGXK9o/6vb7dyBc0Iy5aYUPGaf70/udNz/L0cR7Xw0c9x87X/DHFSvvTWuU1WE2ddHuPTvLx8ZGPTyeFPfqkhitP5dWfmPO09k9pKn52nIZXfVpoE6IRkf7an7BRB2sfDkCTQdgGGrkfT9Ue03LozCm3lAK4leeNXeXfQEt/fAL8dfFD+SggqKd08HMVfGeoJo9aP39XoM8PSv27BJxXV7uOvSUVqOgydQBovGp3dwCNRatW6imp6GSZdN7lt0zFRyX5SzzcDC1J2d6lmr04UwVlkuSjru3NTa5o5x9w+Z0M1PS3xU8rYsP5bf0H9JQPV2ugyaL7Ao1VQFf1llRw+kytDSd04oikYT3UyQ1lAW7x1VJFDnlDd208rM0DnB8+D8zV0lVbjZzuRLFNUld5XuoqaaCm3zz1tjaPpWcDzQnTSIDGyucuDXlc2vX5wfOfRvD3PO06KD084C7VXjoJNFfF+bu0X73Vs6srHiFbJlt+njSkv3r4u6gm5yM9L+jvAJo8wjbQaPkobFKKorMXaOmBqlvTZdq1eqnyhi3S88OI2mg5/DvdLn99rqxPi+SQ5CguUNaOfUbO5TiwVAtWhWjGtOhL3j1q2Jp6avikaPmvmqIpy/NUVtXlzzpUVsazSICm7GcJCQkJtRu///57tW/fvoFOUab9q5YqfUemVixYoV22k/ru6zwV2P6pIwcLdM1ve+pG/tYNmpEG7T9tgxR2X2ttfXW6klat1up3U3UkcKqSX41Wl180zCkAkxqsP9x4o7r+d57ee+k5TX8vQ3mlNyl89O3657JMFf3812obGCTfb1Zr6X9t12d781V2bSv9u6y1fnPjd0pbvFY7qtukToGd9Evn9JDTX2Vo4cYCOb7bpZXL39fqVSn64MAvNSo5WRN7/7Jyp5N5SluRpqycHbIe81SrU8Vy+AWpS7eAy9bkdeg9Lc3YKuuRVvK8tly/urWnrj+Rpffez9Sne/P1489/qWva91SQv4faBoUprPv/yfrODD0y6Q+aM2e1thfapE79ZOnAhRJojOrzHndNRUVFRe1Gq9Uqi8VirDCgOaP/AOc09v5QvC5GXR7rpM2lr6k/eRbAFarPexzTSAAALVyRik+6uwYAzRVhGwAAADCEsA0AaJGKP12qd7JtkmzKenehVhzgOSAAGh7P2QYAtEj+d4/TjLvHacZSd1cCoDljZBsAAAAwhLANAAAAGELYBgAAAAwhbAMAAACGELYBAAAAQwjbAAAAgCGEbQAAAMAQwjYAAABgCGEbAAAAMISwDQAAABhC2AYAAAAMIWwDAAAAhhC2AQAAAEMI2wAAAIAhhG0AAADAEMI2AAAAYAhhGwAAADCEsA0AAAAYQtgGAAAADCFsAwAAAIZcU1FRUVG70Wq1uqMWAAAAoEmxWCyX3O5xsQ0dOnRo8GKAluDYsWP0H8CJ/gCgOTt27Nhl92EaCQAAAGAIYRsAAAAwhLANAAAAGELYBgAAAAwhbAMAAACGELYBAAAAQwjbAAAAgCGEbQAAAMAQwjYAAABgCGEbAAAAMISwDQAAABhC2AYAAAAMIWwDAAAAhhC2AQAAAEMI2wAAAIAhhG0AAADAEMI2AAAAYAhhGwAAADCEsA0AAAAYQtgGAAAADCFsAwAAAIYQtgEAAABDCNsAAACAIYRtAAAAwBDCNgAAjUy57ROt/NNkDe/cWeM3ldbnFSo/W+PHH/KV+cEyJcR2VudnMlWfIwAww3zYtmUp4ZkxemDoEI15ZIzGDB2iB55J0Mp9dH3gSpTuW6bxA5L1hbsLAWBcq4B79VDMvbqpXnvb9cmM/rqtX4I+sTubfhWk4Y88rhF3mKsRQP14GD/DD0f0l9umat1bd6iVs8m+NUFDYobpL29tUtLvfY2XADRp9nytnD5eCR8dlzRVT7i7HgCNT6tW0o1+8mt1+V0BuJZLppH06X6bavZ/7yEj9fhtpcpcu1PHXFEA0FQdyVTCm3/RTZM2adXT7i4GaEbK92rec81leoW37p2+S0fSxyuIsA00OuZHtm8frxcvaPSTXydJH5Xqn5I6GC8CaKI6D1fCjMpvv/i5e0sBmpPSrSuVXH6fHnZ3IQCaPfNhu04lOn5A0u9vqud8NABAS2ffl6xpiz+T/awkD4dKSnx07/MJenFAB0nlyt+0Uus+nKOV1yZp31vD5SvJ/uU6pWX8WXNSd2pq+hGNv71Un/xpplLWZ0n6RpMfSZMUphc/eEhBkmQ/oqwV72rl3uOSh+T4t0Nd7n1CTzwcps7eklSqvR8s0rLZK7Xz6WXaecdxpaSu1J93HJECh2vCvFka0caqrDVZWrt1nb6w3aR7nkhQwrR7zx9YKt2rlW8tU9aRcud5Wqnb8Mc1IaaPfGtdmb2/36k5T7yrjTuOqFQ36Y4HHtL0aY/rjl9JUrmO7UhT2kfrlLzhJiXtTtbwGy77L6kvPpivtzMPq/yXnnL8u5UsY+M1ZVhnMTAONDz3PI3E9pWspVLYkD5ixjYAoD7KSw/L79EUrUpdpVUfrFdKrLTsiTnK/F6SWilo2IULAr1vH6nHIy01Wnx173OzFN1LUq+nlfTBKq2qCtrl+Up+dIgW/e8IJaeu0qoPVml9epJ+VzRTQx5NVn555ev7PDJCFkkqPa7jfvdoyrz12rQ1WSOvzVTCsGlK+9ZTt42J13sf7tT6GXcq/93HlbLDfq6E77M0edgY7e2R4PxdVmn9yqfllzlGw6ZlXTC1xe5zpya8vVX7jhzRV7sT1OebOXpg6Bzt/e/K37vDgIf0cP/6Dl2VK3/xY3pgvZeeXrm+8twLRujYpBhN+6h5TKoBGhs3hO1yfZGxUvn3J+nFYURtAED9eAdP1YQ+58ZeO3SxSMrS8eKGOb59zzrN+7KPHorsI+9zZ9HwZ6aqz5fztG6P/fwXtO+mPrd1kLe3t3w7hyl6TJgkya9rHwXd5C1v7w664z+jNUJSyeny6pflf7xImaWP66FhNca6r71DsZMfV+mGRdr4Va3CrvWWt/PXbnXDvZr6yosKKl2mlduvIhzbP9O6P32hPmOidce1zrab+mjE/aXK3LSXdVSAAS4P2/bcFL22+z4tnj2cudoAgHprdUNn+Rqc53Dkq5WS7lCXgFob2t2kIEkrvzpyydd71jUxs5WnfM5rKNWRL/KlIUG6qdbv0qpDF/VRvv5y5DIh+jaL+kvKsh2/9H51+ftftVJS0I1+NRp9K9dRbT2uf175EQFchkvnbNtzkzX+nV9o1srHFXTt5fcHAKCKPXel5n+QpW/skuStLu3KL/eSq9D6wqYLAnMD8JA8a7f9olWNEfVLq6PKK/LnpFjlv1uzpY/69PPSL37icQFcyGVh+9jWBM3Z10dzFoepg5uWZQIAmqjClXps1CJZPtilVf2cQ8JfJmvl+p0NfKIzFzaVO1TWwGfRWclRu+1/ymWXLh+47T+qRJLvz64+Gt83OUUv9mM5JOAKLphGUq7898ZrzvGRen0GQRsAcOVKC/bqC92poM71CIj28guDbD10vu0hSV/oG1utDSeOK1/SQ7d1voqj1uarzncESVvzdbzWwHz5sW+0V0G6s/Nl1jMdP6K/yFcj7+hy5ae/5bd6SNLer7658tcCuCqGw3a58hfHaPgWb3U7u1dpS5dp2Xlf6/SF/fJHAQC0bL4duslXf9En+46pXFJ56RF9stt6wX6/uDZI2r1WaTuPyW63y24v1ZFvjtbay1u+N0o6kK/DdkkqV/lZyXvASL14+16tzNirc5emY8p8a5723j5VI/vWd5LHpQXdP1kP+S7Tyk01liP+9xdKSVom3/snaMRtl3jx2WPKfG+ZSu6PV/RdVzEy7f07jZh8h/L/OFPzdh5T+Vlne7ld9v++8sMBuLyfJSQkJNRu/P777+Xj0xAz1H7QvhWvKivnK+3ds1u7L/j6mfo8FK6uXg1wKqCRsNvtDdR/JNk+0bK07fpk4zKtzjqiE2XH9PU3Nh07/o2+KvPVnTc3+ExSoEE1WH9o106dz3ylNa8naM6aLco/2V6D7g/Sv1KzdOzn18n7lt/o5rYe8uvaQ9cdz9TyuUla+UmBSv+vjW7+rZ/K1m+rsV8r+V13nb7Jnq+kP2Yo55tS3WAJ1c1efrpzWISuO7hacxYsV0Zmhlav2qLTd0zVmzNHq2sbqfI52yu1ZddBFXm2Upv/9VGX265TyY41Wr1tnw78za5Wrc6q1Y2/UfszB7RhzRbl7DmoE61/obMeHfSbm33k0fpm3RN1t/618Q3NXbau8jxr/6I2w19V0pR75Fs1DPaL63RdR6now5Va/mGGMj5crQWLsqT+s/TW84N0w/+TJLu+WL9SH+454Dz3aZ26touCWn2jzLRM7fx8tw5+10q/+Hepyn9d+bvfEHKf7m57RFvemaPnZ83RwjVbdODb/9F1XXuoy3XcfgauhN1uV/v27S+5zzUVFRUVtRutVqs6dOBZIcDVOHbsGP0HcKI/AGjOjh07JovFcsl93PNHbQAAAIAWgLANAAAAGELYBgAAAAwhbAMAAACGELYBAAAAQwjbAAAAgCGEbQAAAMAQwjYAAABgCGEbAAAAMISwDQAAABhC2AYAAAAMIWwDAAAAhhC2AQAAAEMI2wAAAIAhhG0AAADAEMI2AItQ0xEAACAASURBVAAAYAhhGwAAADCEsA0AAAAYQtgGAAAADCFsAwAAAIYQtgEAAABDCNsAAACAIYRtAAAAwBDCNgAAAGCIx8U2HDt2zJV1AM0K/Qc4h/4AoCVjZBsAAAAw5KIj2xaLxZV1AM2G1Wql/wBO9AcAzZnVar3sPoxsAwAAAIYQtgEAAABDCNsAAACAIYRtAAAAwBDCNgAAAGAIYRsAAAAwhLANAAAAGELYBgAAAAwhbAMAAACGELYBAAAAQwjbAAAAgCGEbQAAAMAQwjYAAABgCGEbAAAAMISwDQAAABhC2AYAAAAMIWwDAAAAhhC2AQAAAEMI2wAAAIAhhG0AAADAEMI2AAAAYAhhGwAAADCEsA0AAAAYQtgGADRujiJlLZmt2L5e8no4TcX1eYnjp55voaZGecnLa672/4RDAYD5sP33TE19OELBXbpp4IgIRQwIVnD4BC3cWqSf8l4INH9l2v/2BEWEByt4QIQiRgxUcO8ITfhjpgrK3F0b4EKenRQW96TCOtdv97KPp6qbbxdN3XqVHcWzk8LiJmpUyNW9HABq8jB+hpMF2tjxGVlXhMnH2VT26WyFhw9S3oo9Srnf33gJQNPkUNF+6eGluYq+0dl0Ok8LH+6n4KwZ2v3R8+rp6dYCgcbpZ57yVIDa/bqVuysBANdMIxnR967qoC1JPnePUHSPYqUtz1KRKwoAmqqOvRVyY42f2/TUI4+Pkw7MVtpn3BsC6uIz5DUdPrVdz9/Jp1EA7md+ZLvX85p3QWM7tess6bNicTccuBh/Rb/68AWtPr9uJ0kqOlkmiTABAEBj5qYFkjbZPpP8x4Soq3sKAJqs4uN/k+Sv2zsxBQstUJsTynopSsFdvOTl5aVuAyZo4d5zwzaOv2dpaUKs+nl5KWadcymlo0hZS6YqystLXn/cL53MU+YfYxXcpcbix+JdWvhUhIJ7D1TEiAhFPBij2atd/tsBaIZcHrYdZUXKSnhR73SdqEWP9mdcDrgiDv0tb5fU40n17+7uWgA3KGur3s+nKvebUzpV+o3m3f03TR9i0fQdldOqPG8J07gnwhRQ8zWenRQWN0p3SdL+DzR7cZ7UJ0zDOzq3f5ep2L4R2thphrZ/vl2bN27W5tWpmvGga381AM2T+WkkVf6yVBGzMnWmaJfKLK9p/iuj1D/g8i8DUIMtU0vnBWjGjmcUwidVtEQenmrr4/zP7+mvsIT5ei27n6Yvz9TEAdG67P2ekEc04w+VjxkZ8n6RyiXlrXtDacUPK/XxkPPWFwFAQ3DdyPad47R542Ztzzul3Dld9eVzXdRtXBoLJIH6OluktNdmy/O9FD3fi6QNVOqpu4ZK2mCT7Qpf6RnQST4qUsH+PGlYf/W43kR9AFo698zZ9g/TCy9NVPGaWL31MUskgcs6W6S08U/r8/s3K2VkJ3dXAzQuP/8pLy6RbZMkD6l1A5UDADW5bhpJLZ43BShE0ol/OyRu3AEXV5anhc+8IU1K1bw76SvA+cr0wwlJ/tLVPVXbT/4DJJ2VzjRoXQBQyfjI9v4/TteuOh4H7Dhu035Jna4nPAAXZcvS1GdWqNMrqZpI0AbqUKSC/T/l6VbtFNBd0qZdOniyYSsDAMklI9trtWv/y+p/d405pmX79darC+U/OkVPDGDuKVCn7zIVO3C2HCNHqWjDQi2svb3rcE0cypQStGxFaxZqYXG0Eq/66Vae6h/9mkIWTNeC18PUNWG4uraRdLpYJ/7ZsLUCaJmMh22/wBEqmBeubo+VqVNQO+nsCZ0401X9ozdrz+P9L79yHGip/lGgtOIC6e3Zyqxr+0t3EbbRgvio/9hFmrhuhWJHrJAknSkqkn43Til7Jqq/82JSdmCFPtiyq3KxZPY7Wlh+nx55wE/7lq/VPknav1YLlxSp/8ho9axaENljojK2emp20myFt4tRsX9XRT8xQ9Gdh0vap7VLsuQ3NkydGBsCcBWuqaioqKjdaLVaZbFY3FEP0OTRf4Bz6A8AmrP6vMe56S9IAgAAAM0fYRsAAAAwhLANAAAAGELYBgAAAAwhbAMAAACGELYBAAAAQwjbAAAAgCGEbQAAAMAQwjYAAABgCGEbAAAAMISwDQAAABhC2AYAAAAMIWwDAAAAhhC2AQAAAEMI2wAAAIAhhG0AAADAEMI2AAAAYAhhGwAAADCEsA0AAAAYQtgGAAAADCFsAwAAAIYQtgEAAABDCNsAAACAIYRtAAAAwBDCNgAAAGDINRUVFRW1G61WqztqAQAAAJoUi8Vyye0eF9sQFBTU4MUALUF+fj79B3CiPwBozvLz8y+7D9NIAAAAAEMI2wAAAIAhhG0AAADAEMI2AAAAYAhhGwAAADCEsA0AAAAYQtgGAAAADCFsAwAAAIYQtgEAAABDCNsAAACAIYRtAAAAwBDCNgAAAGAIYRsAAAAwhLANAAAAGELYBgAAAAwhbAMAAACGELYBAAAAQwjbAAAAgCGEbQAAAMAQwjYAAABgCGEbAAAAMISwDQAAABhC2AYAAAAMIWwDAAAAhhC2AQAAAEPcE7YPJ2uo71il/8MtZweaCLtyl0xS5H0WBd0dqciRkep791CNTUjVoX+5uzYAAFAfHi4/4+lcJT03U7kK1+MuPznQlDhkO1Cs8LesyrjV2XTWptQngzXgwRLt+HCyunu6tUAAAHAZLh7Zdij3rXkq6Bzq2tMCTdX1oQq5tcbPHgEaFh0rWRO1fp/DbWUBTZojR4kT0lXi7joAtAguDdslmZOU+POpmjLQ25WnBZooP0W9MV7da7V6/9pfklRst7u+JKAZKPkoRUl8VgXgIq6bRnI0XTOyBitpUbBaZ7jsrECzU2LLkzRIod393F0K4HIlu5OVOG+bjnpI0hnZbFJA2BQteWWw/CTZdydp4oIc2c9K8jij4uK2GjT9dc0KC5BUouxXX9DiNVskfa24kamSwjVrXewFH2oBoKG4KGwfUvKz2Rq8YIkq3+4AXLGzDpX8LV0zXj6k8MTlirrZ3QUBrmXLiNPvX5Zmf5yhqI7OxrO5SnzWVr2PoyRP7Z5creWDKhc02NaMVvCYmeqRt1xR7f00+KU3ZP92i3I0RUtSosRHVgCmuSBsO5Q7b6aKn12t8R0vvzeA2kqU/XKcFh8uVsFubz2w8B3FhHUXayPRotiztfjJdPnP3HEuaEuSR6B63fVD9Y/ed8VrynXnekdAYIikRB39XlJ7l1ULANWMz9l2fD5f8xSvF+8hGgBXx0+DX8lQxoY9yi9dq5izy3R/16FKsjLpFC3I14eVIim02621Nnhr8EODq0eoPdsHyo/LDYBGxOzI9j+2aNJLdkXMPKMDu3Oqm+2FlQu7CnJzlHOdv3r2CxRLJoH68FbgQy8qPjNYk557T4M+uXABJdCctfW6dJK2f56ixKVbVHmZ8VbgDeUuqQsALsZs2P6+UOlfpij9/pQ6NyfF5ihJ8fq4NFDBRgsBmhN/+d0qaWe5iBFoaYr/aZcuNjzz1xSNipivkHVWZVTdTbUmKWXNNpfVBwC1mZ1GYpms0tLSC77y3wmXFK4leaUqLZ1M0Abq8o90zVxpq2NDsUq+lnSPn3xdXRPgLrd2U6ykTXvzdLEJVCV/zVGueqlHIPNIADQe7vlz7QDqxbZzt2xna7WlzVHizmDFT4tSgHvKAlzPe7BiEkOlRZM07d1c2U6f2+Sw22V3SH4BPeWnA8rebZNDkqOkUNk799c+kPw6SNp3UHl2SXLIUauPAUBDImwDjdUvAxTSJl2TBwTJcl+kIkdGaujdfTV5d1e98elaTbYweoeWpfsTGfpkQ6z00bP6fSdf+fr6ynLfWCWsLZQ8JVki9eaEHjowIVgdgvrq0T8dULvfP6BwSfvXpij7W4ckT/V64HWFt0nWg50tGho7Rzk8jxaAQddUVFRU1G60Wq0KCgpyRz1Ak5efn0//AZzoDwCas/z8fFkslkvuw8g2AAAAYAhhGwAAADCEsA0AAAAYQtgGAAAADCFsAwAAAIYQtgEAAABDCNsAAACAIYRtAAAAwBDCNgAAAGAIYRsAAAAwhLANAAAAGELYBgAAAAwhbAMAAACGELYBAAAAQwjbAAAAgCGEbQAAAMAQwjYAAABgCGEbAAAAMISwDQAAABhC2AYAAAAMIWwDAAAAhhC2AQAAAEMI2wAAAIAhhG0AAADAkGsqKioqajdarVZ31AIAAAA0KRaL5ZLbPa72hQDqZrVa6T+AE/0BQHNWnwFqppEAAAAAhhC2AQAAAEMI2wAAAIAhhG0AAADAEMI2AAAAYAhhGwAAADCEsA0AAAAYQtgGAAAADCFsAwAAAIYQtgEAAABDCNsAAACAIYRtAAAAwBDCNgAAAGAIYRsAAAAwhLANAAAAGELYBgAAAAwhbAMAAACGELYBAAAAQwjbAAAAgCGEbQAAAMAQwjYAAABgCGEbAAAAMISwDQAAABhC2AYAAAAMIWwDAJqksgMrtDAhVv28vBSzrtjd5QBAnVwQtvdrrpeXvOr44s0RuFJlyprcRV5/3O/uQgC38+n1sCY+EaYAdxcCAJfg4ZKz9IjW8yN7qm2t5radPF1yeqC5KFo3RROWFUsvubsSAABQH64J253D9OSkaPm75GRAM2VL0yvZUm9Jme6uBQAA1AtztoGmwJGnueOzFDb9Sd3u7loAAEC9EbaBRs+h/Qtm68xLixTN5FS0aGUqWDddMQOCFRweoYgRUYqZ/I4+r2O//UumKmrAQEWMiNDAAVGavq5Ajnrv41DRx0s1NcpLXl5ztf9smfI2zVVs7y6ae8AlvyiAZsQ100g+e0OxI1ZUfn+qSH873UlhkeM08enh6trGJRUATVbZx9M1W3/Q+j6scUBL5lDevEj1W9xJKdtzz33w/C5NMR/vv2C/gRn9tX3rdoW0kWRLU0y3cE3w2KOU+/3rtU+noeM06uBULd26Tx+8fka9e/ZX2NA/y+by3xtAU+eCsB2i57/J1fM1m8r2a+79AxWc9Zp275ionuaLAJomW5qmrOypt1eHiKiNFu3kVi1N2K+er8y/9B2esl1akbBf/d9KqQzRkhTQX6NGFytm3S69fH+0OtVnn+oD3qVHXnpeIZI0IEVFDgHAFXHPNBKfED3z0kTpwHSl7eCdC6hbkdJey1LYnIdrXPiBFqrwS62QNKT3ZYZnCg9qqaSeHdvVaPRXu86SNtlUUt996tKmkzpdf5X1A2ixXDONpA6ev/ZXT0lFJ8skxuyAWhzKmxertV1f0ETbLu2qvnddoCJJOv6ldn16Rm0791bPG+k/aP6KjxdIklrX86q18dUHlLegZkt/9R/go1ZXuA8A/FRuC9s6W64TEn+MAKhTmQry9mvrhge0ta7Ny6cqYrk0/L1vlDqSsI3mz+f6yvs7Z87Wb/8RL63XawMu3Tfqsw8A/FTGp5EUr5uqhQcvbC/7rkjF6qneXXn6NnAhf0WvOKVTp2p/bdcMSXppu06dOqXUkfQftAyenbqqv6Stn+ddesfAHhonadfBgp+2DwA0EBfM2T6hzw8Wnd9UnKUFSSsU8tJ8jethvgIAQBN3ywg987i/8t6erYUHyqof0VdW/KPKau7n01+jXgpR3stTNHtrkRxVI+GOMpWdvoJ9AKCBGA/b/j3D1Hbd0wruGayIERGKGBCs4Mcy1XpyrjL+wBMWAAD14aOwV7co9Yl22vj4TfL18lK3qOla+++2CpFky35HKw5UrgEK+UOGts+9XXkvD5Lvr7zk1SVYEZOXatd3VQvyL7dP5XO21+6XpH1a++ZSpR0su1hhAHBJ11RUVFTUbrRarbJYLO6oB2jy6D/AOfQHAM1Zfd7j+AuSAAAAgCGEbQAAAMAQwjYAAABgCGEbAAAAMISwDQAAABhC2AYAAAAMIWwDAAAAhhC2AQAAAEMI2wAAAIAhhG0AAADAEMI2AAAAYAhhGwAAADCEsA0AAAAYQtgGAAAADCFsAwAAAIYQtgEAAABDCNsAAACAIYRtAAAAwBDCNgAAAGAIYRsAAAAwhLANAAAAGELYBgAAAAwhbAMAAACGELYBAAAAQ66pqKioqN1otVrdUQsAAADQpFgslktu97jYhqCgoAYvBmgJ8vPz6T+AE/0BQHOWn59/2X2YRgIAAAAYQtgGAAAADCFsAwAAAIYQtgEAAABDCNsAAACAIYRtAAAAwBDCNgAAAGAIYRsAAAAwhLANAAAAGELYBgAAAAwhbAMAAACGELYBAAAAQwjbAAAAgCGEbQAAAMAQwjYAAABgCGEbAAAAMISwDQAAABhC2AYAAAAMIWwDAAAAhhC2AQAAAEMI2wAAAIAhhG0AAADAEMI2AAAAYAhhGwAAADCEsA0AaJLs1lQlvxqnAb6+GptR4u5yAKBOHi47U0mOUv6UrC1fl0sqlu2kvwJuj1HSwigFuKwIoGkpyRiroCe31LElXh+XTlawyysCGg9vS4zG3+Cp/QvS3V0KAFyUS8K248tkPRizSaHvrVVGb+/KRnu2pnU+rNKFImwDlzDo0VkK7Vi79Vb5uqMYAABwRVwQtg/pvWkz9eNjH+upqqAtSd49FRp92PzpgSYuZNR4jbe4uwoAAHA1jM/ZduzepEVWPw27J1ie523xU/giboMDABqZfx1S+qspynW4uxAAzYHxke2vD29TiUIV2MH0mQAAzZtdhRnzlLh0m75u7S9/j1bybvWjDkjqVXu/j1KU/G6OjnpIOnVGZwKH6OmnYhX+2xp3WOVQ4UeLz+13VpLHGdm+aqvYte8r6vwRIgC4KobDtl0n/n5I0iA5ClM189V0bdueo8ISPwWGDdP45+IVc7v3ZY8CtGSrpkcqx6vy++KvbPK+a7AeGBev2N70HbQkDh1aMEoDlgZoycd7FFW1juEf6RqblXvhfh+GKmNjhkKd3cSWEaff3z1KhdkbNPn2yhRtz0rQ/Y+c0GxrRvXxbGljFTyhXD5tSNoAGobhaSQO2U9KUonUcZheXJihPfmlKv1+r17vtl+TBj+p1G/NVgA0ZX6Ry2X9c4Yy1lV+7cm3aknYj5of0UfTsuzuLg9wnX9tV8qruer+1IRzQbsu9hylvpqr0MdiqoO2JAVEvqj4e3KVuDpHlT2nRDmZKSq5Z7CCaxwv4K5hCtc2ZX/BowQBNAzjc7Y9PSUpQAEdvc/N2fbwVuioWIVqm1KyDpkuAWhWAqJfVPw9JUpZtkk2dxcDuMrXeUqVNKhX98vsd1gpkoIDaz/nyl8dgyS9f1iFl3r9/zlkl+TpugfjAmjmDIdtP/nfIknF+qH2INz1fgqUdOh0udkSgGbnV/K7WdLOEpW6uxTARUq+q4zIresZgi/cz1OtvWr+7KdeA8OlnZu1u8YdVtvuzcrxi9KwYL+fUC0AnGP8s3tgt1hJhSo5KYkppkADcOh/Tru7BsC1vK+rHKk+c7Z++1+4n0NnTp3f4he5UDtOTtR/RvTVqtv81fqspA6hWv7hUwpv/1MrBoBKxsO2d6+BivVL0eZ9NsXcXOO23skSFUoKv/lSk++AlixXSS/8oNg3Btf6nFos21eSHu2mQPcUBricZ0CgQiVtO3BI8b0vMZXk1m6KlZRbaJN615xKUqyj+Tq/35wu1Lb0dnpz73INZjAIgCHG52zrusF66pUoHXx1jtKPVjU6lJuxSjmWeD0dxq064KK2HFDeec/6tatw5SItKonSkqdrh3CgGbt5mJ561E+HFicq2WpXZbdwyF7yo86bpeg9WDGvBCvnvVTl1Nhgy5ijxJ3Bin8w1NlvHMpd8oISA3up57Wu+zUAtDwuWQISELlEn/glK3HcUC3zaq3Wp86oVY8x2pEWo+5tXFEB0BQFKvixt5X0HxZNUoACvKTi4jO69a4HtOSTWIXyORUtircGz9yg5f7Jevupzpr5rdRxUKzGT+ilYEnbti9TasDTirF4q3vcBu3puFjJj0QqqcZztt/49A2F/7Zqqb6nOt4aKL/X4xS0Ju78U/kFatDIeL3+UrgCWCgJ4Ce6pqKioqJ2o9VqVVBQkDvqAZq8/Px8+g/g1Kj7w1mbUl+YqcJbQuRfs704R4uWbFOPhblaM7r2U00A4Jz8/HxZLJZL7sNndgBAC2RT+rORso3eo1n9av8Bm1Bp+zatL+NZ9gB+OvNztgEAaGzshTqQ5lC5439qbXCoZNsmbSqL0tThl3mmNwDUAyPbAICWx3uw4j99QymLxypykWpcDb0V2H+kFuyNVyArkAE0AMI2AKBF8v5tuCYvDNdkdxcCoFljGgkAAABgCGEbAAAAMISwDQAAABhC2AYAAAAMIWwDAAAAhhC2AQAAAEMI2wAAAIAhhG0AAADAEMI2AAAAYAhhGwAAADCEsA0AAAAYQtgGAAAADCFsAwAAAIYQtgEAAABDCNsAAACAIYRtAAAAwBDCNgAAAGAIYRsAAAAwhLANAAAAGELYBgAAAAy5pqKioqJ2o9VqdUctAAAAQJNisVguuZ2RbQAAAMAQj4ttuFxKB1A3q9VK/wGc6A8AmrP6zAZhZBsAAAAwhLANAAAAGELYBgAAAAwhbAMAAACGELYBAAAAQwjbAAAAgCGEbQAAAMAQwjYAAABgCGEbAAAAMISwDQAAABhC2AYAAAAMIWwDAAAAhhC2AQAAAEMI2wAAAIAhhG0AAADAEMI2AAAAYAhhGwAAADCEsA0AAAAYQtgGAAAADCFsAwAAAIYQtgEAAABDCNsAAACAIYRtAAAAwBDCNgCgCXGoYN10xYyIUETvbpqwqdjdBQHAJZkP2wfmysvL6+Jf4zLFWyVwKWUq2DRXE8IjFDEiQgN7dtPAETGa+2mZuwsDXM7x6RsK/6+uem3jZm1e84L8He6uCAAuzcMVJ/EfOlETf+dfq7VcBdnvqO1/DlHtLQCqFCvzqYGa8n8ztG3jZnVy9tiCJRGaXeyQ5OPW6gDXKtOuDXNVHLJdnSTplof1Qnt31wQAl+aSsD0q7mVNHOB5fuPJ/9/e/UdnVd35Hn+7yh3CMARHJXHqlFDHEnsB4zQh6CDGgogRiGP4NRgHqVFEUQoyUKSKlCJSGAFRUSOxSo2MkYRKQQoRW4pWjYnLEDLTUKuE2/aSWKiE6+RhDV25fyRAiPwqdefJj/frL9c+5zzn+7A8OZ9nn7332cyMoqmMbd4u6agDmxZz34tJLPzV2KNBGyAxNY2Y30SvLik6dlNZDGQca4nxFiKplQs/jKT/TB4+QaAuW/M43HMrScELkNqq3by6Kofqm24k7aJmm74xk9wxPhNSR3OIQzta+JSHD1D2ynxy3nO8iqSz0yI925+zbzOrC69jwhs+ApdO6kAlZVsgfl6iQ63U4UXeXsGMp7awDeCl+xnxyy5AEvc+fge89jg5M3PY8sBWDt7emfWrVjD/2UtZ+eFMUgGqt5GzaAXrdx2CTlB3sDOXj53KrNvTiG9yF4zsWs/jy3LYtoeGu+NhqPvtrzj3jgLyxtiFLunsRCVsl61ZTGR6ob3a0qlUVfIuMKDrXtYvX83L6zez/r0quDiVCTfPYuaMYccNLZHas5grp/LklVewpNsQ5t/8CBu+k3ps4+Rx7JiZw5biF5j/PwO4/OphZGyuatj2u/Vkp2URmVfOhmW9Gto+K2bJyCEMfD+Pt3IyGn7M7tvMd2/IYu/3y9kwvnG/qnyy+mYTObc7Rm1JZ6vll/7bt5nVhddz61B7taVTOnSIMuBA5G8ZcMej5L2xk4MHD/LJulv5dMForp23DR9sS02k3srcByaQcfVYZv1wDIlA2brF5FdPZdLoXsf265rKvQ9MpXrNYl5uHJZS/Yt8cqrTGDagyX4Jqdw4ErZsKXbVLElnrcXDdtmaxey+bQypdhNIp/YliAe6X5RAfNdjzTEXj2XSt6H6sfVsc/U/6YRiEnrRnWoqi8tgZBIJze45Mb0SSaOMdytPHaMjn+EsTEl/kZYN2/s2s/rZNKY27WGQdGLxCQwAqqr3NtsQw7kXJgF7OfD/olCX1NZ0gi7N2zrHHLdwZnzqMDLYxqu/2H2s8aNf8Oob8YxNH+C8CUlnrUVHfJatWczu6bmk2Ukgnd5FiQy4DNbv/ZQIOGZUOluHoa5526EIB2iyUv1FY1n51qfcnXktKasv5cJuwOEE0l7ayL0jjdqSzl7Lhe19m1n97OVMesNebenMJJE2PhWWb+PdB9Ka/EiN8OneMoi/kV7NlwSU1EQ8ialJcH8ZVZGx9GryizWyu5JtJPFw4pEgHaFy08tc+HgpeenOKZL0xWmxYSRlaxbz7rcmMOz8ljqj1PYlfesR5vZcwvzHio9Nhqxaz+r/iGfsI2NIPdXBkkga/yCT4leQs7bJ8JDPinl8wQrix89i3GUNTZH3Hue+BZcy4DKDtqQvVsv0bO/bzOrllzLrXRf7k/4sXVOZua6EhCVzGD74EF261VF38FKuX/k6M6/zKZE6kH3FrH7qBX4K8NJjfLfzABIH3sqEfn9k8/Mv8w5A8cuseHo3aWPGknSkY+f8YTz67lZyFsxgxJqm62xv4K3b046OxY75ciKJ8fPJvnQ12cedOJ7E9HHMXfIwGQkt9m0ltSPn1NfX1zdvLC0tJTk5ORr1SG2e1490TFu6Hna/OIXv/iqRARc0ba1m2xMr2JL0JOUFE/AnrqSmzuRvnK/EkCR1eLtfyWbEhxMoWZD2ucnIaZ02s2XNp7jSpqSz0fIvtZEkqVU5QOUv84kcjnCo2ZbI7zbzauGnjP23cb71WNJZsWdbktTBdWfYvBKWPr2CrOGPH3dn7H7xdYx7opS5/9uJk5LOjmFbkqTuiWR850kyvhPtQiS1Nw4jkSRJkgIxbEuSJEmBGLYlSZKkQAzbkiRJUiCGbUmSJCkQw7YkSZIUiGFbkiRJCsSwLUmSJAVi2JYkSZICMWxLkiRJgRi2JUmSpEAM25IkSVIghm1JkiQpEMO2JEmSFIhhW5IkSQrEhgW+kwAAFjpJREFUsC1JkiQFYtiWJEmSAjFsS5IkSYEYtiVJkqRADNuSJElSIIZtSZIkKZBz6uvr65s3lpaWRqMWSZIkqU1JTk4+5fZOJ9vQp0+fL7wYqSOoqKjw+pEaeT1Ias8qKipOu4/DSCRJkqRADNuSJElSIIZtSZIkKRDDtiRJkhSIYVuSJEkKxLAtSZIkBWLYliRJkgIxbEuSJEmBGLYlSZKkQAzbkiRJUiCGbUmSJCkQw7YkSZIUiGFbkiRJCsSwLUmSJAVi2JYkSZICMWxLkiRJgRi2JUmSpEAM25IkSVIghm1JkiQpEMO2JEmSFIhhW5IkSQrEsC1JkiQFYtiWJEmSAjFsS5IkSYEYtiVJrVwtJWtWMnt8D3r0WEZJtMuRpD9DpxY5y/4Schc9ytodh+jSDeoOdiZp1Azm3JFCbIsUILVFNRRk92Hy+pNtj2NOUQXTL2/JmqRoiCVl/N3w+4fIfT3atUjSnyd82I6Us+zmdFZd8RJv/3RoQ7iuLeKhK9MZ999vsO7b/YgJXoTUVqWQNWMkvf+mWfMfismrHEqmQVuSpFYteNiOvLOWhaUw/XtDj/Vixw5l5L/CygVree/OfgwybUsn9pVbmD47i4RmzeVPv86eK0d+rl2SJLUuwcds1+6vAqBL81j/vwCqqNkfugKprYpj1LzPB232F5G3+VqyhjkIS5Kk1i542I5LSCIOqDvctDVC3UEgLomEL4euQGpfyvOXErnjFvpFuxApKur448dF5M4az8A+PejRZyCTny0nctw+tex6bRnTbsokc0wmmdenkz51GRv/q/bYHqV5LJwymB49JlKwJ0LNm7nMHp/MxMKahu0f5DF7fDrpR44fk0nuB01Osb+E3FnjSb8+k8yb0km/5SEKfn18FZIELbEaSXIWi8f3JG91Hrsa/87V7swj98meZD2SSUrwAqR2ZH8ReT8eSfYN9mqro6phz2e9GfPAM2x6u4SXxsdSMOdfeOpoEI5Q/tg4Bi6pY9QLhRS+UkjhTzfx9DWVzLp6HMs+aAjEsclZ3D6kJ1DN2qeX8pOangwZ3L9hDtH+jcwdWsDX5m9i05HjMzpT+6cjp2iYi5R33gzW/bSQwnWbeDqjisn/PI2Nv2/xfxBJrVwLLP0Xx/B5y7m9ahoDr00n86aBXPnN2VTPXs78DEecSn+O8vyl7J002l5tdWAJJPVNIDY2ltjYBIbedjvDqaHso4YeaWq3k7eghEG3ZTGoyW/ShMz7mXNNCQtf2k7tcZ8Xz+h75pCdOZShdyzm/iti4eNd5DU/6/gfcldS4ym25bGwdBDZ41KOTvBPuGYMo2oKeOXNqiDfWlLbFT5s7ylg8qCH+PTeCj4p3kThureo+L8l3P7RZK6cUoB/lqQztL+IvOcGkX1DXLQrkVqvX+8kF0jp3bwzJ56efYAf7mTXSQ+OJeHLMfDVvmTHbWd21kSWFW5n136gUwwxjXOPdu3MBfrR8++aHBoXTyKw8f988kV+G0ntQODVSGopemIyBXHf441hTQJCpwRG3TWFJ785macyhrLIiV7SaZXnL6Vq+tOu3iOdgc9NyieGLt3O8ODzhrLoZ4V87d9XsvLOTBYCPTMW8fyybPodvV1tYOG/ltOl6XHXDGJQbOe/rHBJ7U7gsB2hdh9wcTzxzTedF09PYO9nEfDVNtKp7S8i77lU7v6ZQ6+kM3H8pHw4OjH/TMUNInvxILIXRqh65ylm3zmbf1nUk7cXDm3cYQRzfvQ9f/xKOq3gw0hiYoCPqqluvmF/NXvg6GM5SSdXnr+UsttGM6hrtCuRWrmv9SUbKNnVfJBiNXsqgG/1pffpPuODAgo+bvzvTjEkXDWdOff2o+b9PewFevfNBrZT/uEXW7qk9ilw2I5jUEY2cTvX8pM3m05JqWX7hrWUx91N1hDHn0qntL+IvMcTuWes0yKl04odStb3U9j+XB7bm9x2qgofYeHPU5hz86DTP0v90x7yXm86sruWvXvKibuqNz2B2KtGMye5nIf+bSFFe44t9xeprSXyuR51SR1d8H7l2GGLeHtDLgtzJpL5aMMZ6w7WEX9ZFpu2Z5NiT510SuX5Sym+azGLzot2JVK0RKjanMfaEoBi1j6RBzdnkUIJec8VsQdg6yoKet/HqL4x9Ju8jrd6PsXKWzNZ1gk4WEdd7+tY/IvFDP96w7iP2tI8Vm3dA0DRcyuJXDWaUdfENawucl5ver8zm/QCGsZ5H4aeVz3PusmDGrZ3TWH6S5uIXfQo89K/ws01EPf1QQy9MZu7Jw+nt09sJTVxTn19fX3zxtLSUvr06RONeqQ2r6KiwutHauT1IKk9q6ioIDk5+ZT7tMA625IkSVLHZNiWJEmSAjFsS5IkSYEYtiVJkqRADNuSJElSIIZtSZIkKRDDtiRJkhSIYVuSJEkKxLAtSZIkBWLYliRJkgIxbEuSJEmBGLYlSZKkQAzbkiRJUiCGbUmSJCkQw7YkSZIUiGFbkiRJCsSwLUmSJAVi2JYkSZICMWxLkiRJgRi2JUmSpEAM25IkSVIghm1JkiQpEMO2JEmSFIhhW5IkSQrknPr6+vrmjaWlpdGoRZIkSWpTkpOTT7m909keKOnESktLvX6kRl4PktqzM+mgdhiJJEmSFIhhW5IkSQrEsC1JkiQFYtiWJEmSAjFsS5IkSYEYtiVJkqRADNuSJElSIIZtSZIkKRDDtiRJkhSIYVuSJEkKxLAtSZIkBWLYliRJkgIxbEuSJEmBGLYlSZKkQAzbkiRJUiCGbUmSJCkQw7YkSZIUiGFbkiRJCsSwLUmSJAVi2JYkSZICMWxLkiRJgRi2JUmSpEAM25IkSVIghm1JkiQpEMO2JKlt21fM6uUzGNWtG91+UHxGh0QigWuSpEYtErYju9az5K4hDBk8ghHDhzBk+BRWvH2gJU4ttXERKn+yhCmDhzDkxhGMGDyEIXctYf0uk4J01PmpTJg2jivOcPcDm2bQt8clzNjifUhSeJ1CnyDy/hKGpz1Dr5zX2fpUr4a295YwfHAyVfmlPJrePXQJUptVvW4Kwyd8yqzSrTzZu6GtctUoUm74FXnbcsm4KLr1SW3Sl2KIIYELL+gc7UokdQCBe7YPsO1H8ymOv5M7x/c62hrTfxLfvqWanAUvUBa2AKkN283m5/OpHjmO63ofa00cOo6M6nxyinZHrzSpDet+3cPsPLiVmd+IiXYpkjqAwGG7kh2rgH9KIOG49u5cdnUG7NhC2UdhK5Darhqq3wA6QZemzY3Po7ZV10ShJkmS9OeI2gTJXr0SgW1U7nbsqXRiCSTcBByGuqbNhyIcADIuTjjxYVI7deD91cwY1WT+wo0jyHm/2U7/80d2b8lhxtgULunWjUsGZJOz49h9JvLRZnLmZXNVt25kvVLd2FhGfmPbjFX5fLfx2G6XpDDqgXwqP2u57yip/QkcthvDwm/2srf5pk4NfXW79zlBRTqxeDKmPUxa8TOs3nIkFFSz+bkcfnX1XL59Q3x0y5Na0r71zEnLJ/GRrWx9dQMb3thK7k2dOfCnZvtVV3EgcRxzn91K6c61TOiaz4zMx48OWYy5eBiT7hh2/NPWmCTGNrbt7ZTEgy+V8OHBg/y2cCrn/kc2w6evp7pFvqSk9ihw2I4nY+JU4nesYMXzlRyN1ZEDVFY63lQ6nZhvTOWJeb1YMmogKcNHMGTAJYx+LJG5K2eS2jXa1Ukt6KNKVjdr6nVLHvf+Y7PGv7+cpITudO/ene4Jw7jzrgyo/oDK353hebqeS0zjUK3ul01g6bIJVK9ZzMs7/sL6JXVYwYeRxAx+mNItU4lZPYq/79aNbklDyLr/ZXbjxBTp1CIU/2AI/bYMoOS3H1KycQNbyw7y2y2X8kLfISx5zyFY6kAuvoxJ8duYMSaLJa9so3If0CnmaDAOpXtCIkmU8W6lfduSzk6LjNnufuVUnnxjJwcPHuRg2Vbylk3iivMbtl3ey0fh0gntyOG+BcVMGj+OxCYrZHa/chKzbi9m/rQcV/NRx3H+MB59awOPDo7wwm0jSOnVjb4TcigLPRLx/AtxdoSkv0TUJkjurnwXmMRlvU+7q9QxHTpEGXDhBc3Xou/O314I7DjEoSiUJUVNfBqTlhWw84+fUL5xLom/nMGoBZsJmrf37aUKgvegS2q/goft6le+y+rmy/tFitnyShlJD4wjzXfaSCf2JYgH9v6heZQ4wB/3AvHgKznUYbyfT/6Re0mnGHpdPZO505KoLq36/AT8L9CBqkrKuI60JJ/CSjo7LdCzvZuyyiZh4XA1mxfdz/zOc1l6T6ojt6WT+cZ1TO0POWteZffhJu1Vr7J6FVz3wBiSolac1ML+VMXqLZVNGg6wt6qM+KsTww3z+KyYnGWrSX3gO4y9ONRJJLV3wR+MxcRfzt4fDKHvvAvpdSHUHYRLM+by4ZY04n0sJ51CElN/UkKvJ1Zwz435DVfr4TrquJTrXyrh3pG9TvsJUrtxfiKJv5zBkHzo0g04DAlX57HxnjRiIrvZ/PzLvANQ/DIrXoRbb0mF91bzTFEVAJufzSdx9lh6la/mhY3bqAIoeoYVh67n1ltSOfKQtfKV+8h68QAHgLqDnbl87FYKJ9sxJOnsnVNfX1/fvLG0tJTk5ORo1CO1eV4/0jFt5nr4XT5Zl2bT69VPeHiw0VrSmTmTv3FRmyApSVJr44vWJH3RDNuSJElSIIZtSVLH9rtt5Dy7mSqgqugZVrxYHHY5QUkdilMUJUkd20VpTJqXxqR5udGuRFI7ZM+2JEmSFIhhW5IkSQrEsC1JkiQFYtiWJEmSAjFsS5IkSYEYtiVJkqRADNuSJElSIIZtSZIkKRDDtiRJkhSIYVuSJEkKxLAtSZIkBWLYliRJkgIxbEuSJEmBGLYlSZKkQAzbkiRJUiCGbUmSJCkQw7YkSZIUiGFbkiRJCsSwLUmSJAVi2JYkSZICOae+vr6+eWNpaWk0apEkSZLalOTk5FNu73SyDX369PnCi5E6goqKCq8fqZHXg6T2rKKi4rT7OIxEkiRJCsSwLUmSJAVi2JYkSZICMWxLkiRJgRi2JUmSpEAM25IkSVIghm1JkiQpEMO2JEmSFIhhW5IkSQrEsC1JkiQFYtiWJEmSAjFsS5IkSYEYtiVJkqRADNuSJElSIIZtSZIkKRDDtiRJkhSIYVuSJEkKxLAtSZIkBWLYliRJkgIxbEuSJEmBGLYlSZKkQAzbkiRJUiCGbUmSJCkQw7YkSZIUiGFbkqRT2V9C3hOzGd+jBz0eLYl2NZLamJYN27W7KHgwk8mFNSfbgZInppF5UyaZY9JJv34aK9+tbdESpdallpJnZzP++nQyx2SSfn06E+cVsOuzaNcldSDnpZB1z2hSo12HpDapU0udqOq1h5g+cyXba2D4MyfaI8L2eVcy+ZP5vLZuFAkAe/KYmPxNPl33FnOuimmpUqVWooaNU77JxN/czqb8TaTEAlRRMOUGBo6q5o2f3k2/aJcoSZJOqQV6tmvZ/uhsCiMjWfbj5Qw/2W47n+OhJ+OZcldj0AbomcU9syMse/A5ysMXKrUuO9fyaH4NwydlNQZtgARG3TWFfqUPkbfZpz7qYCLbWTilgJM9G5Wk1qgFwnYsg2YsYnpmCgldT947Xf7mWsoZRL9Ljm/v3Xck7FzL9p2By5RamZpdxZQDSQlxx2/om8q1QO7bZUSiUZgUJTWv5bLM/+kltTGtZIJkLXs/KgfOpUuzPB57QTxQzo6P7MuQGvQg8QagYg/V0S5FahE1FC2YyOQHN8I7S5k8JpPMMbmU7y8hb8FkBvfowcTCKiK/307urPEkZxfwn2/msnDKYHr0WMaRKY2Rj4vIPbp/s3tK7S4K5k1snDOUSebVyQy8KZPcD05eVWRnAQ9lDyR96kJy3/QeJenEWmzM9qlFqN0HXBNHj+abzotjEBA53PJVSdEUl5BEHBup/kMtENtkS5eGK/fnNXwCx4ZdSe1WHEMfWEztxxvZzn08nTuKI897+t1WRdFjBVQXPsXSff3pf9219F8HF1yVze0121mWf+xTYr46lOzbatn+WMHxH/9ZCcvGprNl6CZeXpdy9Gqryp9I4Z9OUdahPVTFz+PphUO9DiWdVCsJ241iY+jSvK1zzHExQ+owkjOZc+1Cpi17giH/OIehjekisqeSSodrS8eJz7yPOZkNF8mA3jX8FXCml0n5j2axsDSL519KOe5+k9BvKHGHTnxMZOdKZv+4L98zaEs6jVYyjKRRbYS65m2HImf8B1NqXxLIWvUWT19Rzrxv9qBHjz4MvGkaT5XUcu5fR7s2qfWK7RnHma9fVcOu98rhmv70Pa/Zpq9nkXX5CQ7ZU8C0ccUMusOgLen0WknYjiH2fI4+Fj/O/hq2AzGtqw9eahldezNq3hreqviETz6p4K11y5me2RP2ABk96Rnt+qT24kRPVk/kP1cx7d+3AxuZ+4ONrowi6bRaSdiO5cKL+wGfUtdspnntH6qBflx2cdyJDpQ6nv172LUT+vXvjVeF9AX5qPrMJhz/92VkP7KcxUuzIX8Wc9cbtyWdWisJ29DvqtH0YzvlHzZtjVD23k+g72gG9Y1WZVK0lLBs3vbPLe9X8/NXyGM4UzJ8pY10ep/vxDleHL3794Od29nx8Rl8XEoq/bpC7LA5LP8WFNy/lKL9X1CpktqlVhO26Xsbi2d35smnCqg60rangNzHYpj+/dt8U546popd7GmyEk/tf+Ux98H3GPXM9xj15eiVJbW8WOK+Aryzg7JagMhpV6mK6XohsJa8V8qpqa2ltraWql2Vn5sH1G/s/WR/9XUW3reQjb+uPfYDN1JLzf6TJfVYhs5eTja5TFtU5NwiSSfVAiOhaylZ8yLF+6rZtfV13gNYPplpO66l9wXdSZ1w5O14MaTMeJkXnpjL9JvyoFMddZ2SGL3hZ2QP8FXt6oh60PPvNvLtf1oJCQl0OVhH3UWp3L72bUZ93TV61NHE0H/0Ioa/Npub/2EDKRkjuG/GSGoKi9gDsHUVKw8NYvRNg4hrvGXEDruLl6ZUMfu+wfR5PIWsG25heFYSKcDrW1eRl3APWcmxcN5QFr3+Fv2XLuSJrH9g4sdAXG8GDRlN9r13Mfyvqyj60VqKAUrWkvtmT7KviiNyADpfBjU/nMadnecwY3oWKc0nWUrq8M6pr6+vb95YWlpKnz59olGP1OZVVFR4/UiNvB4ktWcVFRUkJyefcp/WM4xEkiRJamcM25IkSVIghm1JkiQpEMO2JEmSFIhhW5IkSQrEsC1JkiQFYtiWJEmSAjFsS5IkSYEYtiVJkqRADNuSJElSIIZtSZIkKRDDtiRJkhSIYVuSJEkKxLAtSZIkBWLYliRJkgIxbEuSJEmBGLYlSZKkQAzbkiRJUiCGbUmSJCkQw7YkSZIUiGFbkiRJCsSwLUmSJAVi2JYkSZICMWxLkiRJgZxTX19f37yxtLQ0GrVIkiRJbUpycvIpt9uzLUmSJAVywp5tSZIkSX85e7YlSZKkQAzbkiRJUiCGbUmSJCkQw7YkSZIUiGFbkiRJCsSwLUmSJAVi2JYkSZICMWxLkiRJgRi2JUmSpED+P8pl5k++uY9PAAAAAElFTkSuQmCC)"
      ],
      "metadata": {
        "id": "Og4Pz2N2jQRK"
      }
    },
    {
      "cell_type": "code",
      "execution_count": 1,
      "metadata": {
        "colab": {
          "base_uri": "https://localhost:8080/"
        },
        "id": "l6kmk9PRiGd1",
        "outputId": "74bd845e-2b0b-4ac6-ec71-142929494a44"
      },
      "outputs": [
        {
          "output_type": "stream",
          "name": "stdout",
          "text": [
            "Downloading data from https://www.cs.toronto.edu/~kriz/cifar-10-python.tar.gz\n",
            "170500096/170498071 [==============================] - 2s 0us/step\n",
            "170508288/170498071 [==============================] - 2s 0us/step\n"
          ]
        }
      ],
      "source": [
        "from tensorflow.keras.datasets import cifar10\n",
        "(x_train, y_train), (x_test, y_test) = cifar10.load_data()"
      ]
    },
    {
      "cell_type": "code",
      "source": [
        "print(f\"x_train: {x_train.shape} - y_train: {y_train.shape}\")\n",
        "print(f\"x_test: {x_test.shape} - y_test: {y_test.shape}\")"
      ],
      "metadata": {
        "id": "Vq3F7DhpjqgY",
        "colab": {
          "base_uri": "https://localhost:8080/"
        },
        "outputId": "87fcfecf-e757-428d-9e10-370dffa32b21"
      },
      "execution_count": 2,
      "outputs": [
        {
          "output_type": "stream",
          "name": "stdout",
          "text": [
            "x_train: (50000, 32, 32, 3) - y_train: (50000, 1)\n",
            "x_test: (10000, 32, 32, 3) - y_test: (10000, 1)\n"
          ]
        }
      ]
    },
    {
      "cell_type": "markdown",
      "source": [
        "## Step 1.2: Defining hyperparameters"
      ],
      "metadata": {
        "id": "1C36tuPcgZHe"
      }
    },
    {
      "cell_type": "code",
      "source": [
        "learning_rate = 0.001\n",
        "weight_decay = 0.0001\n",
        "batch_size = 256\n",
        "num_epochs = 100\n",
        "image_size = 72\n",
        "patch_size = 6  \n",
        "num_patches = (image_size // patch_size) ** 2\n",
        "projection_dim = 64\n",
        "num_heads = 4\n",
        "transformer_units = [projection_dim * 2,projection_dim,] \n",
        "transformer_layers = 8\n",
        "mlp_head_units = [2048, 1024]"
      ],
      "metadata": {
        "id": "GAuk3ukBgaEy"
      },
      "execution_count": 3,
      "outputs": []
    },
    {
      "cell_type": "markdown",
      "source": [
        "## Step 1.3: Data augmentation"
      ],
      "metadata": {
        "id": "MCn9Zwi8gz5H"
      }
    },
    {
      "cell_type": "code",
      "source": [
        "!pip install --quiet tensorflow_addons"
      ],
      "metadata": {
        "colab": {
          "base_uri": "https://localhost:8080/"
        },
        "id": "E_c4THtUhTh0",
        "outputId": "27bf04a3-f71a-4114-a485-a0b05e9a2e3d"
      },
      "execution_count": 5,
      "outputs": [
        {
          "output_type": "stream",
          "name": "stdout",
          "text": [
            "\u001b[?25l\r\u001b[K     |▎                               | 10 kB 17.5 MB/s eta 0:00:01\r\u001b[K     |▋                               | 20 kB 11.8 MB/s eta 0:00:01\r\u001b[K     |▉                               | 30 kB 9.3 MB/s eta 0:00:01\r\u001b[K     |█▏                              | 40 kB 8.5 MB/s eta 0:00:01\r\u001b[K     |█▌                              | 51 kB 5.4 MB/s eta 0:00:01\r\u001b[K     |█▊                              | 61 kB 5.6 MB/s eta 0:00:01\r\u001b[K     |██                              | 71 kB 5.5 MB/s eta 0:00:01\r\u001b[K     |██▍                             | 81 kB 6.2 MB/s eta 0:00:01\r\u001b[K     |██▋                             | 92 kB 4.8 MB/s eta 0:00:01\r\u001b[K     |███                             | 102 kB 5.1 MB/s eta 0:00:01\r\u001b[K     |███▎                            | 112 kB 5.1 MB/s eta 0:00:01\r\u001b[K     |███▌                            | 122 kB 5.1 MB/s eta 0:00:01\r\u001b[K     |███▉                            | 133 kB 5.1 MB/s eta 0:00:01\r\u001b[K     |████▏                           | 143 kB 5.1 MB/s eta 0:00:01\r\u001b[K     |████▍                           | 153 kB 5.1 MB/s eta 0:00:01\r\u001b[K     |████▊                           | 163 kB 5.1 MB/s eta 0:00:01\r\u001b[K     |█████                           | 174 kB 5.1 MB/s eta 0:00:01\r\u001b[K     |█████▎                          | 184 kB 5.1 MB/s eta 0:00:01\r\u001b[K     |█████▋                          | 194 kB 5.1 MB/s eta 0:00:01\r\u001b[K     |█████▉                          | 204 kB 5.1 MB/s eta 0:00:01\r\u001b[K     |██████▏                         | 215 kB 5.1 MB/s eta 0:00:01\r\u001b[K     |██████▌                         | 225 kB 5.1 MB/s eta 0:00:01\r\u001b[K     |██████▊                         | 235 kB 5.1 MB/s eta 0:00:01\r\u001b[K     |███████                         | 245 kB 5.1 MB/s eta 0:00:01\r\u001b[K     |███████▍                        | 256 kB 5.1 MB/s eta 0:00:01\r\u001b[K     |███████▋                        | 266 kB 5.1 MB/s eta 0:00:01\r\u001b[K     |████████                        | 276 kB 5.1 MB/s eta 0:00:01\r\u001b[K     |████████▎                       | 286 kB 5.1 MB/s eta 0:00:01\r\u001b[K     |████████▌                       | 296 kB 5.1 MB/s eta 0:00:01\r\u001b[K     |████████▉                       | 307 kB 5.1 MB/s eta 0:00:01\r\u001b[K     |█████████                       | 317 kB 5.1 MB/s eta 0:00:01\r\u001b[K     |█████████▍                      | 327 kB 5.1 MB/s eta 0:00:01\r\u001b[K     |█████████▊                      | 337 kB 5.1 MB/s eta 0:00:01\r\u001b[K     |██████████                      | 348 kB 5.1 MB/s eta 0:00:01\r\u001b[K     |██████████▎                     | 358 kB 5.1 MB/s eta 0:00:01\r\u001b[K     |██████████▋                     | 368 kB 5.1 MB/s eta 0:00:01\r\u001b[K     |██████████▉                     | 378 kB 5.1 MB/s eta 0:00:01\r\u001b[K     |███████████▏                    | 389 kB 5.1 MB/s eta 0:00:01\r\u001b[K     |███████████▌                    | 399 kB 5.1 MB/s eta 0:00:01\r\u001b[K     |███████████▊                    | 409 kB 5.1 MB/s eta 0:00:01\r\u001b[K     |████████████                    | 419 kB 5.1 MB/s eta 0:00:01\r\u001b[K     |████████████▍                   | 430 kB 5.1 MB/s eta 0:00:01\r\u001b[K     |████████████▋                   | 440 kB 5.1 MB/s eta 0:00:01\r\u001b[K     |█████████████                   | 450 kB 5.1 MB/s eta 0:00:01\r\u001b[K     |█████████████▎                  | 460 kB 5.1 MB/s eta 0:00:01\r\u001b[K     |█████████████▌                  | 471 kB 5.1 MB/s eta 0:00:01\r\u001b[K     |█████████████▉                  | 481 kB 5.1 MB/s eta 0:00:01\r\u001b[K     |██████████████                  | 491 kB 5.1 MB/s eta 0:00:01\r\u001b[K     |██████████████▍                 | 501 kB 5.1 MB/s eta 0:00:01\r\u001b[K     |██████████████▊                 | 512 kB 5.1 MB/s eta 0:00:01\r\u001b[K     |███████████████                 | 522 kB 5.1 MB/s eta 0:00:01\r\u001b[K     |███████████████▎                | 532 kB 5.1 MB/s eta 0:00:01\r\u001b[K     |███████████████▋                | 542 kB 5.1 MB/s eta 0:00:01\r\u001b[K     |███████████████▉                | 552 kB 5.1 MB/s eta 0:00:01\r\u001b[K     |████████████████▏               | 563 kB 5.1 MB/s eta 0:00:01\r\u001b[K     |████████████████▌               | 573 kB 5.1 MB/s eta 0:00:01\r\u001b[K     |████████████████▊               | 583 kB 5.1 MB/s eta 0:00:01\r\u001b[K     |█████████████████               | 593 kB 5.1 MB/s eta 0:00:01\r\u001b[K     |█████████████████▍              | 604 kB 5.1 MB/s eta 0:00:01\r\u001b[K     |█████████████████▋              | 614 kB 5.1 MB/s eta 0:00:01\r\u001b[K     |██████████████████              | 624 kB 5.1 MB/s eta 0:00:01\r\u001b[K     |██████████████████▏             | 634 kB 5.1 MB/s eta 0:00:01\r\u001b[K     |██████████████████▌             | 645 kB 5.1 MB/s eta 0:00:01\r\u001b[K     |██████████████████▉             | 655 kB 5.1 MB/s eta 0:00:01\r\u001b[K     |███████████████████             | 665 kB 5.1 MB/s eta 0:00:01\r\u001b[K     |███████████████████▍            | 675 kB 5.1 MB/s eta 0:00:01\r\u001b[K     |███████████████████▊            | 686 kB 5.1 MB/s eta 0:00:01\r\u001b[K     |████████████████████            | 696 kB 5.1 MB/s eta 0:00:01\r\u001b[K     |████████████████████▎           | 706 kB 5.1 MB/s eta 0:00:01\r\u001b[K     |████████████████████▋           | 716 kB 5.1 MB/s eta 0:00:01\r\u001b[K     |████████████████████▉           | 727 kB 5.1 MB/s eta 0:00:01\r\u001b[K     |█████████████████████▏          | 737 kB 5.1 MB/s eta 0:00:01\r\u001b[K     |█████████████████████▌          | 747 kB 5.1 MB/s eta 0:00:01\r\u001b[K     |█████████████████████▊          | 757 kB 5.1 MB/s eta 0:00:01\r\u001b[K     |██████████████████████          | 768 kB 5.1 MB/s eta 0:00:01\r\u001b[K     |██████████████████████▎         | 778 kB 5.1 MB/s eta 0:00:01\r\u001b[K     |██████████████████████▋         | 788 kB 5.1 MB/s eta 0:00:01\r\u001b[K     |███████████████████████         | 798 kB 5.1 MB/s eta 0:00:01\r\u001b[K     |███████████████████████▏        | 808 kB 5.1 MB/s eta 0:00:01\r\u001b[K     |███████████████████████▌        | 819 kB 5.1 MB/s eta 0:00:01\r\u001b[K     |███████████████████████▉        | 829 kB 5.1 MB/s eta 0:00:01\r\u001b[K     |████████████████████████        | 839 kB 5.1 MB/s eta 0:00:01\r\u001b[K     |████████████████████████▍       | 849 kB 5.1 MB/s eta 0:00:01\r\u001b[K     |████████████████████████▊       | 860 kB 5.1 MB/s eta 0:00:01\r\u001b[K     |█████████████████████████       | 870 kB 5.1 MB/s eta 0:00:01\r\u001b[K     |█████████████████████████▎      | 880 kB 5.1 MB/s eta 0:00:01\r\u001b[K     |█████████████████████████▋      | 890 kB 5.1 MB/s eta 0:00:01\r\u001b[K     |█████████████████████████▉      | 901 kB 5.1 MB/s eta 0:00:01\r\u001b[K     |██████████████████████████▏     | 911 kB 5.1 MB/s eta 0:00:01\r\u001b[K     |██████████████████████████▌     | 921 kB 5.1 MB/s eta 0:00:01\r\u001b[K     |██████████████████████████▊     | 931 kB 5.1 MB/s eta 0:00:01\r\u001b[K     |███████████████████████████     | 942 kB 5.1 MB/s eta 0:00:01\r\u001b[K     |███████████████████████████▎    | 952 kB 5.1 MB/s eta 0:00:01\r\u001b[K     |███████████████████████████▋    | 962 kB 5.1 MB/s eta 0:00:01\r\u001b[K     |████████████████████████████    | 972 kB 5.1 MB/s eta 0:00:01\r\u001b[K     |████████████████████████████▏   | 983 kB 5.1 MB/s eta 0:00:01\r\u001b[K     |████████████████████████████▌   | 993 kB 5.1 MB/s eta 0:00:01\r\u001b[K     |████████████████████████████▉   | 1.0 MB 5.1 MB/s eta 0:00:01\r\u001b[K     |█████████████████████████████   | 1.0 MB 5.1 MB/s eta 0:00:01\r\u001b[K     |█████████████████████████████▍  | 1.0 MB 5.1 MB/s eta 0:00:01\r\u001b[K     |█████████████████████████████▊  | 1.0 MB 5.1 MB/s eta 0:00:01\r\u001b[K     |██████████████████████████████  | 1.0 MB 5.1 MB/s eta 0:00:01\r\u001b[K     |██████████████████████████████▎ | 1.1 MB 5.1 MB/s eta 0:00:01\r\u001b[K     |██████████████████████████████▋ | 1.1 MB 5.1 MB/s eta 0:00:01\r\u001b[K     |██████████████████████████████▉ | 1.1 MB 5.1 MB/s eta 0:00:01\r\u001b[K     |███████████████████████████████▏| 1.1 MB 5.1 MB/s eta 0:00:01\r\u001b[K     |███████████████████████████████▍| 1.1 MB 5.1 MB/s eta 0:00:01\r\u001b[K     |███████████████████████████████▊| 1.1 MB 5.1 MB/s eta 0:00:01\r\u001b[K     |████████████████████████████████| 1.1 MB 5.1 MB/s \n",
            "\u001b[?25h"
          ]
        }
      ]
    },
    {
      "cell_type": "code",
      "source": [
        "import numpy as np\n",
        "import tensorflow as tf\n",
        "from tensorflow import keras\n",
        "from tensorflow.keras import layers\n",
        "import tensorflow_addons as tfa\n",
        "data_augmentation = keras.Sequential(\n",
        "    [\n",
        "        layers.Normalization(),\n",
        "        layers.Resizing(72, 72),\n",
        "        layers.RandomFlip(\"horizontal\"),\n",
        "        layers.RandomRotation(factor=0.02),\n",
        "        layers.RandomZoom(\n",
        "            height_factor=0.2, width_factor=0.2\n",
        "        ),\n",
        "    ],\n",
        "    name=\"data_augmentation\",\n",
        ")\n",
        "data_augmentation.layers[0].adapt(x_train)\n"
      ],
      "metadata": {
        "id": "nIb4npQwg02j"
      },
      "execution_count": 6,
      "outputs": []
    },
    {
      "cell_type": "markdown",
      "source": [
        "## Step 1.4 visualizing images"
      ],
      "metadata": {
        "id": "TiQyL6tchc1v"
      }
    },
    {
      "cell_type": "code",
      "source": [
        "import matplotlib.pyplot as plt\n",
        " \n",
        "plt.figure(figsize=(4, 4))\n",
        "image = x_train[np.random.choice(range(x_train.shape[0]))]\n",
        "plt.imshow(image.astype(\"uint8\"))\n",
        "plt.axis(\"off\")"
      ],
      "metadata": {
        "colab": {
          "base_uri": "https://localhost:8080/",
          "height": 266
        },
        "id": "RVZisTzNhllp",
        "outputId": "1dc6428f-02dd-4dd2-c37a-875cac0dc1bd"
      },
      "execution_count": 7,
      "outputs": [
        {
          "output_type": "execute_result",
          "data": {
            "text/plain": [
              "(-0.5, 31.5, 31.5, -0.5)"
            ]
          },
          "metadata": {},
          "execution_count": 7
        },
        {
          "output_type": "display_data",
          "data": {
            "image/png": "[encoded data removed]",
            "text/plain": [
              "<Figure size 288x288 with 1 Axes>"
            ]
          },
          "metadata": {
            "needs_background": "light"
          }
        }
      ]
    },
    {
      "cell_type": "markdown",
      "source": [
        "## Step 2: Building network\n",
        "\n",
        "*  build  an MLP network and \n",
        "*  a layer that will separate our images into patches"
      ],
      "metadata": {
        "id": "XyAeynbMkaCG"
      }
    },
    {
      "cell_type": "code",
      "source": [
        "def mlp(x, hidden_units, dropout_rate):\n",
        "    for units in hidden_units:\n",
        "        x = layers.Dense(units, activation=tf.nn.gelu)(x)\n",
        "        x = layers.Dropout(dropout_rate)(x)\n",
        "    return x"
      ],
      "metadata": {
        "id": "_4LRbi0Mkmqe"
      },
      "execution_count": 8,
      "outputs": []
    }
  ]
}